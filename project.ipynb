{
 "cells": [
  {
   "cell_type": "code",
   "execution_count": null,
   "id": "4a3af8b4",
   "metadata": {},
   "outputs": [],
   "source": [
    "import numpy as np\n",
    "import pandas as pd\n",
    "import matplotlib.pyplot as plt\n",
    "import math as math\n",
    "import seaborn as sns\n",
    "from sklearn.decomposition import PCA\n",
    "from sklearn.preprocessing import StandardScaler\n",
    "from sklearn.impute import SimpleImputer\n",
    "from sklearn.linear_model import LinearRegression"
   ]
  },
  {
   "cell_type": "code",
   "execution_count": null,
   "id": "8c1af515",
   "metadata": {},
   "outputs": [],
   "source": [
    "df = pd.read_csv(\"group_9.csv\")"
   ]
  },
  {
   "cell_type": "code",
   "execution_count": null,
   "id": "1c2770e4",
   "metadata": {},
   "outputs": [],
   "source": [
    "print(\"Dataset dimension:\", df.shape)\n",
    "display(df.head())"
   ]
  },
  {
   "cell_type": "markdown",
   "id": "f0a31815",
   "metadata": {},
   "source": [
    "Graphic settings"
   ]
  },
  {
   "cell_type": "code",
   "execution_count": null,
   "id": "844bd04e",
   "metadata": {},
   "outputs": [],
   "source": [
    "# sns.set(style=\"whitegrid\", context=\"notebook\")\n",
    "# plt.rcParams[\"figure.figsize\"] = (10, 6)\n",
    "sns.set(style=\"whitegrid\")"
   ]
  },
  {
   "cell_type": "markdown",
   "id": "2627a7a6",
   "metadata": {},
   "source": [
    "Dataset info"
   ]
  },
  {
   "cell_type": "code",
   "execution_count": null,
   "id": "674729d0",
   "metadata": {},
   "outputs": [],
   "source": [
    "df.info()"
   ]
  },
  {
   "cell_type": "markdown",
   "id": "4fa32f59",
   "metadata": {},
   "source": [
    "DESCRIPTIVE STATISTICS\n",
    " Basic statistics + skewness and curtose"
   ]
  },
  {
   "cell_type": "code",
   "execution_count": null,
   "id": "f72d3fe7",
   "metadata": {},
   "outputs": [],
   "source": [
    "num_desc = df.describe().T\n",
    "num_desc[\"skew\"] = df.select_dtypes(include=[np.number]).skew()\n",
    "num_desc[\"kurtosis\"] = df.select_dtypes(include=[np.number]).kurtosis()\n",
    "display(num_desc.head(10))"
   ]
  },
  {
   "cell_type": "markdown",
   "id": "9bd94feb",
   "metadata": {},
   "source": [
    "UNIVARIATE ANALYSIS \n",
    "    (Distribution of individual features)"
   ]
  },
  {
   "cell_type": "code",
   "execution_count": null,
   "id": "df1ebb62",
   "metadata": {},
   "outputs": [],
   "source": [
    "# Initial setup\n",
    "numeric_columns = [\n",
    "    'time_signature', 'key_mode', 'artist_song_count', 'album_freq', 'movement_index',\n",
    "    'intensity_level', 'verbal_density', 'purity_score', 'positivity_index', 'activity_rate',\n",
    "    'loudness_intensity', 'happy_dance', 'acoustics_instrumental', 'artists_avg_popularity',\n",
    "    'tempo_vs_genre', 'energy_rank_pct', 'loud_energy_ratio', 'mood_pca', 'mood_cluster',\n",
    "    'acoustic_valence_mood_cluster', 'signal_strength', 'focus_factor', 'ambient_level',\n",
    "    'key_sin', 'key_cos', 'duration_log', 'duration_log_z', 'loudness_yeo', 'temp_zscore',\n",
    "    'resonance_factor', 'timbre_index', 'distorted_movement', 'signal_power', 'target_regression'\n",
    "]\n",
    "\n",
    "# Grid setup\n",
    "n = len(numeric_columns)\n",
    "ncols = 3\n",
    "nrows = math.ceil(n / ncols)\n",
    "fig, axes = plt.subplots(nrows, ncols, figsize=(4 * ncols, 3 * nrows))\n",
    "fig.suptitle('Distribution of Numerical Variables', fontsize=16)\n",
    "\n",
    "# Flatten axes\n",
    "axes_flat = axes.flatten() if isinstance(axes, np.ndarray) else [axes]\n",
    "\n",
    "# Generate histograms\n",
    "for i, col in enumerate(numeric_columns):\n",
    "    ax = axes_flat[i]\n",
    "    sns.histplot(df[col], kde=True, bins=20, ax=ax)\n",
    "    ax.set_title(f'{col} Distribution')\n",
    "\n",
    "# Hide unused axes if any\n",
    "for j in range(len(numeric_columns), len(axes_flat)):\n",
    "    axes_flat[j].set_visible(False)\n",
    "\n",
    "plt.tight_layout(rect=[0, 0, 1, 0.97])\n",
    "plt.show()"
   ]
  },
  {
   "cell_type": "code",
   "execution_count": null,
   "id": "113a86bd",
   "metadata": {},
   "outputs": [],
   "source": [
    "# Initial setup\n",
    "categorical_columns = [\n",
    "    'duration_1',\n",
    "    'duration_2',\n",
    "    'duration_3',\n",
    "    'duration_4',\n",
    "    'duration_5',\n",
    "    'loudness_level',\n",
    "    'popularity_level',\n",
    "    'tempo_class',\n",
    "    'explicit',\n",
    "    'mode_indicator',\n",
    "    'time_signature_class_boolean',\n",
    "    'is_instrumental',\n",
    "    'is_dance_hit',\n",
    "    'echo_constant',\n",
    "    'target_class'\n",
    "]\n",
    "\n",
    "# Grid setup\n",
    "n_cols = 3\n",
    "n_rows = math.ceil(len(categorical_columns) / n_cols)\n",
    "\n",
    "fig, axes = plt.subplots(n_rows, n_cols, figsize=(n_cols * 5, n_rows * 4))\n",
    "fig.suptitle('Distribution of Categorical Variables', fontsize=16)\n",
    "\n",
    "axes = axes.flatten()  # Flatten axes\n",
    "\n",
    "for idx, col in enumerate(categorical_columns):\n",
    "    sns.countplot(x=col, data=df, ax=axes[idx])\n",
    "    axes[idx].set_title(f'{col} Distribution')\n",
    "    axes[idx].set_xlabel(\"\")                        # Remove x labels for cleaner look if long names\n",
    "    axes[idx].tick_params(axis='x', rotation=45)    # Rotate labels for readability\n",
    "\n",
    "# Hide any unused subplots\n",
    "for j in range(idx + 1, len(axes)):\n",
    "    axes[j].set_visible(False)\n",
    "\n",
    "plt.tight_layout(rect=[0, 0, 1, 0.97])\n",
    "plt.show()\n",
    "\n"
   ]
  },
  {
   "cell_type": "markdown",
   "id": "3ec98acb",
   "metadata": {},
   "source": [
    "BIVARIATE ANALYSIS (Correlation between features and the different target variables)"
   ]
  },
  {
   "cell_type": "code",
   "execution_count": null,
   "id": "3bb1bc70",
   "metadata": {},
   "outputs": [],
   "source": [
    "# Initial setup\n",
    "target_column = 'target_regression'\n",
    "\n",
    "numeric_columns = [\n",
    "    'time_signature', 'key_mode', 'artist_song_count', 'album_freq', 'movement_index',\n",
    "    'intensity_level', 'verbal_density', 'purity_score', 'positivity_index', 'activity_rate',\n",
    "    'loudness_intensity', 'happy_dance', 'acoustics_instrumental', 'artists_avg_popularity',\n",
    "    'tempo_vs_genre', 'energy_rank_pct', 'loud_energy_ratio', 'mood_pca', 'mood_cluster',\n",
    "    'acoustic_valence_mood_cluster', 'signal_strength', 'focus_factor', 'ambient_level',\n",
    "    'key_sin', 'key_cos', 'duration_log', 'duration_log_z', 'loudness_yeo', 'temp_zscore',\n",
    "    'resonance_factor', 'timbre_index', 'distorted_movement', 'signal_power'\n",
    "]\n",
    "\n",
    "# Grid setup\n",
    "n_cols = 3\n",
    "n_rows = math.ceil(len(numeric_columns) / n_cols)\n",
    "\n",
    "fig, axes = plt.subplots(n_rows, n_cols, figsize=(n_cols * 6, n_rows * 4))\n",
    "fig.suptitle(f'Scatter Plots of Numerical Variables vs {target_column}', fontsize=16)\n",
    "\n",
    "axes = axes.flatten() # Flatten axes\n",
    "\n",
    "for idx, col in enumerate(numeric_columns):\n",
    "    sns.scatterplot(x=col, y=target_column, data=df, ax=axes[idx])\n",
    "    axes[idx].set_title(f'{col} vs {target_column}')\n",
    "    axes[idx].set_xlabel(col)\n",
    "    axes[idx].set_ylabel(target_column)\n",
    "\n",
    "# Hide extra subplots (if any)\n",
    "for j in range(idx + 1, len(axes)):\n",
    "    axes[j].set_visible(False)\n",
    "\n",
    "plt.tight_layout(rect=[0, 0, 1, 0.97])\n",
    "plt.show()\n"
   ]
  },
  {
   "cell_type": "code",
   "execution_count": null,
   "id": "cd0cc675",
   "metadata": {},
   "outputs": [],
   "source": [
    "# Initial setup\n",
    "target_column = 'target_regression'\n",
    "\n",
    "categorical_columns = [\n",
    "    'duration_1', 'duration_2', 'duration_3', 'duration_4', 'duration_5',\n",
    "    'loudness_level', 'popularity_level', 'tempo_class', 'explicit',\n",
    "    'mode_indicator', 'time_signature_class_boolean', 'is_instrumental',\n",
    "    'is_dance_hit', 'echo_constant', 'target_class'\n",
    "]\n",
    "\n",
    "# Grid setup\n",
    "n_cols = 3\n",
    "n_rows = math.ceil(len(categorical_columns) / n_cols)\n",
    "\n",
    "fig, axes = plt.subplots(n_rows, n_cols, figsize=(n_cols * 6, n_rows * 4))\n",
    "fig.suptitle(f'Box Plots of Categorical Variables vs {target_column}', fontsize=16)\n",
    "\n",
    "axes = axes.flatten() # Flatten axes\n",
    "\n",
    "for idx, col in enumerate(categorical_columns):\n",
    "    sns.boxplot(x=col, y=target_column, data=df, ax=axes[idx])\n",
    "    axes[idx].set_title(f'{col} vs {target_column}')\n",
    "    axes[idx].tick_params(axis='x', rotation=45)\n",
    "\n",
    "# Hide any unused subplots\n",
    "for j in range(idx + 1, len(axes)):\n",
    "    axes[j].set_visible(False)\n",
    "\n",
    "plt.tight_layout(rect=[0, 0, 1, 0.97])\n",
    "plt.show()\n"
   ]
  },
  {
   "cell_type": "markdown",
   "id": "ac9f3f83",
   "metadata": {},
   "source": [
    "Best Feature for Regression"
   ]
  },
  {
   "cell_type": "code",
   "execution_count": null,
   "id": "ae1fdab3",
   "metadata": {},
   "outputs": [],
   "source": [
    "from sklearn.linear_model import LinearRegression\n",
    "from sklearn.metrics import mean_absolute_error, mean_squared_error, r2_score\n",
    "import pandas as pd\n",
    "import matplotlib.pyplot as plt\n",
    "import seaborn as sns\n",
    "import numpy as np\n",
    "\n",
    "# Setup\n",
    "\n",
    "for col in df.columns:\n",
    "    df[col] = df[col].astype(str).str.replace(',', '.', regex=False)\n",
    "\n",
    "target_column = 'target_regression'  # Target variable\n",
    "features = [\n",
    "    'duration_1','duration_2','duration_3','duration_4','duration_5','loudness_level',\n",
    "    'popularity_level','tempo_class','time_signature','key_mode','artist_song_count',\n",
    "    'album_freq','movement_index','intensity_level','verbal_density','purity_score',\n",
    "    'positivity_index','activity_rate','loudness_intensity','happy_dance',\n",
    "    'acoustics_instrumental','artists_avg_popularity','tempo_vs_genre','energy_rank_pct',\n",
    "    'loud_energy_ratio','mood_pca','mood_cluster','acoustic_valence_mood_cluster',\n",
    "    'explicit','signal_strength','mode_indicator','focus_factor','ambient_level',\n",
    "    'key_sin','key_cos','duration_log','duration_log_z','time_signature_class_boolean',\n",
    "    'loudness_yeo','is_instrumental','is_dance_hit','temp_zscore','resonance_factor',\n",
    "    'timbre_index','echo_constant','distorted_movement','signal_power'\n",
    "]\n",
    "\n",
    "results = []\n",
    "\n",
    "# Loop Through Features and Fit SLR\n",
    "\n",
    "for feature in features:\n",
    "    X = df[[feature]]\n",
    "    y = df[[target_column]]\n",
    "\n",
    "    lr = LinearRegression()\n",
    "    lr.fit(X, y)\n",
    "    pred = lr.predict(X)\n",
    "\n",
    "    mae = mean_absolute_error(y, pred)\n",
    "    mse = mean_squared_error(y, pred)\n",
    "    r2 = r2_score(y, pred)\n",
    "\n",
    "    results.append([feature, mae, mse, r2])\n",
    "\n",
    "# Convert to DataFrame and Sort\n",
    "\n",
    "results_df = pd.DataFrame(results, columns=['Feature', 'MAE', 'MSE', 'R2'])\n",
    "results_df = results_df.sort_values(by='R2', ascending=False)\n",
    "print(\"Top 10 features by R2 score:\")\n",
    "print(results_df.head(10))\n",
    "\n",
    "# Plot R² Bar Chart\n",
    "\n",
    "plt.figure(figsize=(12, 6))\n",
    "sns.barplot(x='R2', y='Feature', data=results_df.head(10))  # Plot top 10\n",
    "plt.title('Top 10 Features Ranked by R² (Simple Linear Regression)')\n",
    "plt.xlabel('R² Score')\n",
    "plt.ylabel('Feature')\n",
    "plt.show()\n"
   ]
  },
  {
   "cell_type": "markdown",
   "id": "7c860df6",
   "metadata": {},
   "source": [
    "Simple Linear Regression"
   ]
  },
  {
   "cell_type": "code",
   "execution_count": null,
   "id": "3897f950",
   "metadata": {},
   "outputs": [],
   "source": [
    "# Replace commas with dots and convert to float\n",
    "df['artists_avg_popularity'] = df['artists_avg_popularity'].astype(str).str.replace(',', '.', regex=False)\n",
    "df['target_regression'] = df['target_regression'].astype(str).str.replace(',', '.', regex=False)\n",
    "\n",
    "# Convert to numeric, coerce errors to NaN\n",
    "df['artists_avg_popularity'] = pd.to_numeric(df['artists_avg_popularity'], errors='coerce')\n",
    "df['target_regression'] = pd.to_numeric(df['target_regression'], errors='coerce')\n",
    "\n",
    "x=df[['artists_avg_popularity']]\n",
    "y=df[['target_regression']]\n",
    "lr = LinearRegression()\n",
    "lr_model = lr.fit(x, y)\n",
    "\n",
    "predictions = lr_model.predict(x)\n",
    "df['slr_result'] = predictions\n",
    "\n",
    "slr_error = y - predictions\n",
    "df['slr_error'] = slr_error\n",
    "\n",
    "print ('Slope: ', lr_model.coef_)\n",
    "print ('Intercept: ',lr_model.intercept_)\n",
    "\n",
    "print(\"Mean absolute error: %.2f\" % np.mean(np.absolute(predictions - y.values)))\n",
    "print(\"Residual sum of squares (MSE): %.2f\" % np.mean((predictions - y.values) ** 2))\n",
    "print(\"R2-score: %.2f\" % r2_score(y.values , predictions) )"
   ]
  },
  {
   "cell_type": "code",
   "execution_count": null,
   "id": "6fecc074",
   "metadata": {},
   "outputs": [],
   "source": [
    "fig, axes =plt.subplots(1,3, figsize=(16,4))\n",
    "axes[0].plot(x['artists_avg_popularity'], y,'bo',label='Actual Values')\n",
    "axes[0].plot(x['artists_avg_popularity'], predictions,'go',label='Predicted Values')\n",
    "axes[0].set_title(\"Scatter plot: Actual Vs. Predicted Values\")\n",
    "axes[0].set_xlabel(\"artists_avg_popularity\")\n",
    "axes[0].set_ylabel(\"target_regression\")\n",
    "axes[0].legend()\n",
    "\n",
    "sns.distplot(y, hist=False, color=\"g\", label=\"Actual Values\",ax=axes[1])\n",
    "sns.distplot(predictions, hist=False, color=\"r\", label=\"Predicted Values\" , ax=axes[1])\n",
    "axes[1].set_title(\"Dist plot: Actual Vs. Predicted Values\")\n",
    "axes[1].legend()\n",
    "\n",
    "sns.scatterplot(x=y.index,y='slr_error',data=df,color=\"r\", ax=axes[2])\n",
    "axes[2].set_title(\"Prediction Error\")\n",
    "axes[2].set_ylabel(\"Prediction Error\")\n",
    "\n",
    "fig.tight_layout()"
   ]
  },
  {
   "cell_type": "markdown",
   "id": "4ef824ba",
   "metadata": {},
   "source": [
    "Based on the analysis performed across all features, the variable artists_avg_popularity achieved the highest R² score.\n",
    "\n",
    "This indicates that artists_avg_popularity is the best single predictor of target_regression, explaining the largest proportion of its variance among all tested features.\n",
    "\n",
    "In other words, the average popularity of an artist has the strongest linear relationship with the target regression score, making it the most influential variable in this simple predictive model."
   ]
  }
 ],
 "metadata": {
  "kernelspec": {
   "display_name": "base",
   "language": "python",
   "name": "python3"
  },
  "language_info": {
   "codemirror_mode": {
    "name": "ipython",
    "version": 3
   },
   "file_extension": ".py",
   "mimetype": "text/x-python",
   "name": "python",
   "nbconvert_exporter": "python",
   "pygments_lexer": "ipython3",
   "version": "3.13.5"
  }
 },
 "nbformat": 4,
 "nbformat_minor": 5
}

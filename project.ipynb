{
 "cells": [
  {
   "cell_type": "code",
   "execution_count": null,
   "id": "4a3af8b4",
   "metadata": {},
   "outputs": [],
   "source": [
    "import numpy as np\n",
    "import pandas as pd\n",
    "import matplotlib.pyplot as plt\n",
    "import math as math\n",
    "import seaborn as sns\n",
    "from sklearn.decomposition import PCA\n",
    "from sklearn.preprocessing import StandardScaler\n",
    "from sklearn.impute import SimpleImputer"
   ]
  },
  {
   "cell_type": "code",
   "execution_count": null,
   "id": "8c1af515",
   "metadata": {},
   "outputs": [],
   "source": [
    "df = pd.read_csv(\"group_9.csv\")"
   ]
  },
  {
   "cell_type": "code",
   "execution_count": null,
   "id": "1c2770e4",
   "metadata": {},
   "outputs": [],
   "source": [
    "print(\"Dataset dimension:\", df.shape)\n",
    "display(df.head())"
   ]
  },
  {
   "cell_type": "markdown",
   "id": "f0a31815",
   "metadata": {},
   "source": [
    "Graphic settings"
   ]
  },
  {
   "cell_type": "code",
   "execution_count": null,
   "id": "844bd04e",
   "metadata": {},
   "outputs": [],
   "source": [
    "# sns.set(style=\"whitegrid\", context=\"notebook\")\n",
    "# plt.rcParams[\"figure.figsize\"] = (10, 6)\n",
    "sns.set(style=\"whitegrid\")"
   ]
  },
  {
   "cell_type": "markdown",
   "id": "2627a7a6",
   "metadata": {},
   "source": [
    "Dataset info"
   ]
  },
  {
   "cell_type": "code",
   "execution_count": null,
   "id": "674729d0",
   "metadata": {},
   "outputs": [],
   "source": [
    "df.info()"
   ]
  },
  {
   "cell_type": "markdown",
   "id": "4fa32f59",
   "metadata": {},
   "source": [
    "DESCRIPTIVE STATISTICS\n",
    " Basic statistics + skewness and curtose"
   ]
  },
  {
   "cell_type": "code",
   "execution_count": null,
   "id": "f72d3fe7",
   "metadata": {},
   "outputs": [],
   "source": [
    "num_desc = df.describe().T\n",
    "num_desc[\"skew\"] = df.select_dtypes(include=[np.number]).skew()\n",
    "num_desc[\"kurtosis\"] = df.select_dtypes(include=[np.number]).kurtosis()\n",
    "display(num_desc.head(10))"
   ]
  },
  {
   "cell_type": "markdown",
   "id": "9bd94feb",
   "metadata": {},
   "source": [
    "UNIVARIATE ANALYSIS \n",
    "    (Distribution of individual features)"
   ]
  },
  {
   "cell_type": "code",
   "execution_count": null,
   "id": "df1ebb62",
   "metadata": {},
   "outputs": [],
   "source": [
    "# Initial setup\n",
    "numeric_columns = [\n",
    "    'time_signature', 'key_mode', 'artist_song_count', 'album_freq', 'movement_index',\n",
    "    'intensity_level', 'verbal_density', 'purity_score', 'positivity_index', 'activity_rate',\n",
    "    'loudness_intensity', 'happy_dance', 'acoustics_instrumental', 'artists_avg_popularity',\n",
    "    'tempo_vs_genre', 'energy_rank_pct', 'loud_energy_ratio', 'mood_pca', 'mood_cluster',\n",
    "    'acoustic_valence_mood_cluster', 'signal_strength', 'focus_factor', 'ambient_level',\n",
    "    'key_sin', 'key_cos', 'duration_log', 'duration_log_z', 'loudness_yeo', 'temp_zscore',\n",
    "    'resonance_factor', 'timbre_index', 'distorted_movement', 'signal_power', 'target_regression'\n",
    "]\n",
    "\n",
    "# Grid setup\n",
    "n = len(numeric_columns)\n",
    "ncols = 3\n",
    "nrows = math.ceil(n / ncols)\n",
    "fig, axes = plt.subplots(nrows, ncols, figsize=(4 * ncols, 3 * nrows))\n",
    "fig.suptitle('Distribution of Numerical Variables', fontsize=16)\n",
    "\n",
    "# Flatten axes\n",
    "axes_flat = axes.flatten() if isinstance(axes, np.ndarray) else [axes]\n",
    "\n",
    "# Generate histograms\n",
    "for i, col in enumerate(numeric_columns):\n",
    "    ax = axes_flat[i]\n",
    "    sns.histplot(df[col], kde=True, bins=20, ax=ax)\n",
    "    ax.set_title(f'{col} Distribution')\n",
    "\n",
    "# Hide unused axes if any\n",
    "for j in range(len(numeric_columns), len(axes_flat)):\n",
    "    axes_flat[j].set_visible(False)\n",
    "\n",
    "plt.tight_layout(rect=[0, 0, 1, 0.97])\n",
    "plt.show()"
   ]
  },
  {
   "cell_type": "code",
   "execution_count": null,
   "id": "113a86bd",
   "metadata": {},
   "outputs": [],
   "source": [
    "# Initial setup\n",
    "categorical_columns = [\n",
    "    'duration_1',\n",
    "    'duration_2',\n",
    "    'duration_3',\n",
    "    'duration_4',\n",
    "    'duration_5',\n",
    "    'loudness_level',\n",
    "    'popularity_level',\n",
    "    'tempo_class',\n",
    "    'explicit',\n",
    "    'mode_indicator',\n",
    "    'time_signature_class_boolean',\n",
    "    'is_instrumental',\n",
    "    'is_dance_hit',\n",
    "    'echo_constant',\n",
    "    'target_class'\n",
    "]\n",
    "\n",
    "# Grid setup\n",
    "n_cols = 3\n",
    "n_rows = math.ceil(len(categorical_columns) / n_cols)\n",
    "\n",
    "fig, axes = plt.subplots(n_rows, n_cols, figsize=(n_cols * 5, n_rows * 4))\n",
    "fig.suptitle('Distribution of Categorical Variables', fontsize=16)\n",
    "\n",
    "axes = axes.flatten()  # Flatten axes\n",
    "\n",
    "for idx, col in enumerate(categorical_columns):\n",
    "    sns.countplot(x=col, data=df, ax=axes[idx])\n",
    "    axes[idx].set_title(f'{col} Distribution')\n",
    "    axes[idx].set_xlabel(\"\")                        # Remove x labels for cleaner look if long names\n",
    "    axes[idx].tick_params(axis='x', rotation=45)    # Rotate labels for readability\n",
    "\n",
    "# Hide any unused subplots\n",
    "for j in range(idx + 1, len(axes)):\n",
    "    axes[j].set_visible(False)\n",
    "\n",
    "plt.tight_layout(rect=[0, 0, 1, 0.97])\n",
    "plt.show()\n",
    "\n"
   ]
  },
  {
   "cell_type": "markdown",
   "id": "3ec98acb",
   "metadata": {},
   "source": [
    "BIVARIATE ANALYSIS (Correlation between features and the different target variables)"
   ]
  },
  {
   "cell_type": "code",
   "execution_count": null,
   "id": "3bb1bc70",
   "metadata": {},
   "outputs": [],
   "source": [
    "# Initial setup\n",
    "target_column = 'target_regression'\n",
    "\n",
    "numeric_columns = [\n",
    "    'time_signature', 'key_mode', 'artist_song_count', 'album_freq', 'movement_index',\n",
    "    'intensity_level', 'verbal_density', 'purity_score', 'positivity_index', 'activity_rate',\n",
    "    'loudness_intensity', 'happy_dance', 'acoustics_instrumental', 'artists_avg_popularity',\n",
    "    'tempo_vs_genre', 'energy_rank_pct', 'loud_energy_ratio', 'mood_pca', 'mood_cluster',\n",
    "    'acoustic_valence_mood_cluster', 'signal_strength', 'focus_factor', 'ambient_level',\n",
    "    'key_sin', 'key_cos', 'duration_log', 'duration_log_z', 'loudness_yeo', 'temp_zscore',\n",
    "    'resonance_factor', 'timbre_index', 'distorted_movement', 'signal_power'\n",
    "]\n",
    "\n",
    "# Grid setup\n",
    "n_cols = 3\n",
    "n_rows = math.ceil(len(numeric_columns) / n_cols)\n",
    "\n",
    "fig, axes = plt.subplots(n_rows, n_cols, figsize=(n_cols * 6, n_rows * 4))\n",
    "fig.suptitle(f'Scatter Plots of Numerical Variables vs {target_column}', fontsize=16)\n",
    "\n",
    "axes = axes.flatten() # Flatten axes\n",
    "\n",
    "for idx, col in enumerate(numeric_columns):\n",
    "    sns.scatterplot(x=col, y=target_column, data=df, ax=axes[idx])\n",
    "    axes[idx].set_title(f'{col} vs {target_column}')\n",
    "    axes[idx].set_xlabel(col)\n",
    "    axes[idx].set_ylabel(target_column)\n",
    "\n",
    "# Hide extra subplots (if any)\n",
    "for j in range(idx + 1, len(axes)):\n",
    "    axes[j].set_visible(False)\n",
    "\n",
    "plt.tight_layout(rect=[0, 0, 1, 0.97])\n",
    "plt.show()\n"
   ]
  },
  {
   "cell_type": "code",
   "execution_count": null,
   "id": "cd0cc675",
   "metadata": {},
   "outputs": [],
   "source": [
    "# Initial setup\n",
    "target_column = 'target_regression'\n",
    "\n",
    "categorical_columns = [\n",
    "    'duration_1', 'duration_2', 'duration_3', 'duration_4', 'duration_5',\n",
    "    'loudness_level', 'popularity_level', 'tempo_class', 'explicit',\n",
    "    'mode_indicator', 'time_signature_class_boolean', 'is_instrumental',\n",
    "    'is_dance_hit', 'echo_constant', 'target_class'\n",
    "]\n",
    "\n",
    "# Grid setup\n",
    "n_cols = 3\n",
    "n_rows = math.ceil(len(categorical_columns) / n_cols)\n",
    "\n",
    "fig, axes = plt.subplots(n_rows, n_cols, figsize=(n_cols * 6, n_rows * 4))\n",
    "fig.suptitle(f'Box Plots of Categorical Variables vs {target_column}', fontsize=16)\n",
    "\n",
    "axes = axes.flatten() # Flatten axes\n",
    "\n",
    "for idx, col in enumerate(categorical_columns):\n",
    "    sns.boxplot(x=col, y=target_column, data=df, ax=axes[idx])\n",
    "    axes[idx].set_title(f'{col} vs {target_column}')\n",
    "    axes[idx].tick_params(axis='x', rotation=45)\n",
    "\n",
    "# Hide any unused subplots\n",
    "for j in range(idx + 1, len(axes)):\n",
    "    axes[j].set_visible(False)\n",
    "\n",
    "plt.tight_layout(rect=[0, 0, 1, 0.97])\n",
    "plt.show()\n"
   ]
  }
 ],
 "metadata": {
  "kernelspec": {
   "display_name": "base",
   "language": "python",
   "name": "python3"
  },
  "language_info": {
   "codemirror_mode": {
    "name": "ipython",
    "version": 3
   },
   "file_extension": ".py",
   "mimetype": "text/x-python",
   "name": "python",
   "nbconvert_exporter": "python",
   "pygments_lexer": "ipython3",
   "version": "3.13.5"
  }
 },
 "nbformat": 4,
 "nbformat_minor": 5
}
